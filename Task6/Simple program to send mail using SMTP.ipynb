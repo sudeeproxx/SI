{
 "cells": [
  {
   "cell_type": "code",
   "execution_count": 19,
   "id": "2f36ddac",
   "metadata": {},
   "outputs": [],
   "source": [
    "import smtplib"
   ]
  },
  {
   "cell_type": "code",
   "execution_count": 20,
   "id": "b3fd517b",
   "metadata": {},
   "outputs": [
    {
     "name": "stdout",
     "output_type": "stream",
     "text": [
      "Now auto mail will ve generated:\n"
     ]
    }
   ],
   "source": [
    "import smtplib\n",
    "\n",
    "def Auto():\n",
    "    server = smtplib.SMTP_SSL(\"smtp.gmail.com\",465)\n",
    "    server.login(\"Sender's Email Address\",\"password\")\n",
    "\n",
    "    sender_mail=\"Sender's Email Address\"\n",
    "    reciever_mail=\"Reciever's Email Address\"\n",
    "    message= '''\n",
    "    Hey,\n",
    "        This is an Automated email sent\n",
    "        using Pyhton smtplib.'''\n",
    "\n",
    "    server.sendmail(sender_mail,reciever_mail,message)\n",
    "    server.quit()\n",
    "\n",
    "print(\"Now auto mail will ve generated:\")\n",
    "    "
   ]
  },
  {
   "cell_type": "code",
   "execution_count": null,
   "id": "838b71f9",
   "metadata": {},
   "outputs": [],
   "source": [
    "Auto()"
   ]
  }
 ],
 "metadata": {
  "kernelspec": {
   "display_name": "Python 3",
   "language": "python",
   "name": "python3"
  },
  "language_info": {
   "codemirror_mode": {
    "name": "ipython",
    "version": 3
   },
   "file_extension": ".py",
   "mimetype": "text/x-python",
   "name": "python",
   "nbconvert_exporter": "python",
   "pygments_lexer": "ipython3",
   "version": "3.8.8"
  }
 },
 "nbformat": 4,
 "nbformat_minor": 5
}
