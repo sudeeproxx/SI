{
 "cells": [
  {
   "cell_type": "code",
   "execution_count": 12,
   "id": "2ae7fb9a",
   "metadata": {},
   "outputs": [],
   "source": [
    "#Collect the samples.\n",
    "\n",
    "import cv2\n",
    "import numpy\n",
    "\n",
    "model = cv2.CascadeClassifier('haarcascade_frontalface_default.xml')\n",
    "\n",
    "cap= cv2.VideoCapture(0)\n",
    "\n",
    "count=0\n",
    "while True:\n",
    "    ret,photo= cap.read()\n",
    "    \n",
    "    faces= model.detectMultiScale(photo)\n",
    "    no_faces=len(faces)\n",
    "    \n",
    "    if faces is ():\n",
    "        pass\n",
    "    else:\n",
    "            count=count+1\n",
    "                    \n",
    "            x1= faces[0][0]\n",
    "            x2= faces[0][2]+x1\n",
    "            y1= faces[0][1]\n",
    "            y2= faces[0][3]+y1\n",
    "        \n",
    "            #cphoto= cv2.rectangle(photo,(x1,y1),(x2,y2),[0,255,0],3)\n",
    "            \n",
    "            #Now resize the image and crop it\n",
    "            cphoto= photo[y1:y2,x1:x2]\n",
    "            #face_resize= cv2.resize(cphoto,(200,200))\n",
    "            face_final= cv2.cvtColor(cphoto,cv2.COLOR_BGR2GRAY)\n",
    "            \n",
    "            #SAVE IN FOLDER\n",
    "            cv2.imwrite('./Image_Sudeep_Dataset/'+ str(count) + '.jpg',face_final)\n",
    "            \n",
    "            #Display counter while showing\n",
    "            cv2.putText(face_final,str(count),(50,50),cv2.FONT_HERSHEY_COMPLEX,1,(0,255,0),2)\n",
    "            cv2.imshow('FACE SAVING',face_final)\n",
    "                    \n",
    "    if cv2.waitKey(10)==13 or count==100:\n",
    "        break\n",
    "\n",
    "cap.release()\n",
    "cv2.destroyAllWindows()      \n",
    "print(\"Collection is complete\")\n",
    "        "
   ]
  }
 ],
 "metadata": {
  "kernelspec": {
   "display_name": "Python 3",
   "language": "python",
   "name": "python3"
  },
  "language_info": {
   "codemirror_mode": {
    "name": "ipython",
    "version": 3
   },
   "file_extension": ".py",
   "mimetype": "text/x-python",
   "name": "python",
   "nbconvert_exporter": "python",
   "pygments_lexer": "ipython3",
   "version": "3.8.8"
  }
 },
 "nbformat": 4,
 "nbformat_minor": 5
}
