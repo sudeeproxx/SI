{
 "cells": [
  {
   "cell_type": "code",
   "execution_count": 5,
   "id": "d4316b3a",
   "metadata": {},
   "outputs": [],
   "source": [
    "import os\n",
    "\n",
    "def AWS_launch():\n",
    "    os.system(\"aws ec2 run-instances --image-id ami-0ad704c126371a549  --instance-type t2.micro --count 1 --subnet-id subnet-976288fc  --security-group-ids sg-05515b5e8fb31ee43 --key-name ******\")\n",
    "\n",
    "    os.system(\"aws ec2 create-volume --availability-zone ap-south-1a --size 5\")\n",
    "\n",
    "    os.system(\"aws ec2 attach-volume --volume-id vol-0b2f148e8c47eac96 --instance-id i-009b0f29df0217e3f --device xvdh\")\n",
    "    "
   ]
  }
 ],
 "metadata": {
  "kernelspec": {
   "display_name": "Python 3",
   "language": "python",
   "name": "python3"
  },
  "language_info": {
   "codemirror_mode": {
    "name": "ipython",
    "version": 3
   },
   "file_extension": ".py",
   "mimetype": "text/x-python",
   "name": "python",
   "nbconvert_exporter": "python",
   "pygments_lexer": "ipython3",
   "version": "3.8.8"
  }
 },
 "nbformat": 4,
 "nbformat_minor": 5
}
